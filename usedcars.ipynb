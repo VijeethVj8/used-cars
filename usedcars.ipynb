{
 "cells": [
  {
   "cell_type": "code",
   "execution_count": 6,
   "id": "aa34e5e7",
   "metadata": {},
   "outputs": [
    {
     "name": "stdout",
     "output_type": "stream",
     "text": [
      "Training Data:\n",
      "   id          brand              model  model_year  milage      fuel_type  \\\n",
      "0   0           MINI      Cooper S Base        2007  213000       Gasoline   \n",
      "1   1        Lincoln              LS V8        2002  143250       Gasoline   \n",
      "2   2      Chevrolet  Silverado 2500 LT        2002  136731  E85 Flex Fuel   \n",
      "3   3        Genesis   G90 5.0 Ultimate        2017   19500       Gasoline   \n",
      "4   4  Mercedes-Benz        Metris Base        2021    7388       Gasoline   \n",
      "\n",
      "                                              engine  \\\n",
      "0       172.0HP 1.6L 4 Cylinder Engine Gasoline Fuel   \n",
      "1       252.0HP 3.9L 8 Cylinder Engine Gasoline Fuel   \n",
      "2  320.0HP 5.3L 8 Cylinder Engine Flex Fuel Capab...   \n",
      "3       420.0HP 5.0L 8 Cylinder Engine Gasoline Fuel   \n",
      "4       208.0HP 2.0L 4 Cylinder Engine Gasoline Fuel   \n",
      "\n",
      "                     transmission ext_col int_col  \\\n",
      "0                             A/T  Yellow    Gray   \n",
      "1                             A/T  Silver   Beige   \n",
      "2                             A/T    Blue    Gray   \n",
      "3  Transmission w/Dual Shift Mode   Black   Black   \n",
      "4                     7-Speed A/T   Black   Beige   \n",
      "\n",
      "                                 accident clean_title  price  \n",
      "0                           None reported         Yes   4200  \n",
      "1  At least 1 accident or damage reported         Yes   4999  \n",
      "2                           None reported         Yes  13900  \n",
      "3                           None reported         Yes  45000  \n",
      "4                           None reported         Yes  97500  \n",
      "\n",
      "Test Data:\n",
      "       id brand                 model  model_year  milage fuel_type  \\\n",
      "0  188533  Land        Rover LR2 Base        2015   98000  Gasoline   \n",
      "1  188534  Land     Rover Defender SE        2020    9142    Hybrid   \n",
      "2  188535  Ford    Expedition Limited        2022   28121  Gasoline   \n",
      "3  188536  Audi         A6 2.0T Sport        2016   61258  Gasoline   \n",
      "4  188537  Audi  A6 2.0T Premium Plus        2018   59000  Gasoline   \n",
      "\n",
      "                                              engine        transmission  \\\n",
      "0       240.0HP 2.0L 4 Cylinder Engine Gasoline Fuel         6-Speed A/T   \n",
      "1  395.0HP 3.0L Straight 6 Cylinder Engine Gasoli...         8-Speed A/T   \n",
      "2                    3.5L V6 24V PDI DOHC Twin Turbo  10-Speed Automatic   \n",
      "3                                     2.0 Liter TFSI           Automatic   \n",
      "4       252.0HP 2.0L 4 Cylinder Engine Gasoline Fuel                 A/T   \n",
      "\n",
      "           ext_col int_col       accident clean_title  \n",
      "0            White   Beige  None reported         Yes  \n",
      "1           Silver   Black  None reported         Yes  \n",
      "2            White   Ebony  None reported         NaN  \n",
      "3  Silician Yellow   Black  None reported         NaN  \n",
      "4             Gray   Black  None reported         Yes  \n"
     ]
    }
   ],
   "source": [
    "import re\n",
    "import pandas as pd\n",
    "import numpy as np\n",
    "from sklearn.preprocessing import StandardScaler, OneHotEncoder\n",
    "from sklearn.compose import ColumnTransformer\n",
    "from sklearn.pipeline import Pipeline\n",
    "from sklearn.model_selection import train_test_split, GridSearchCV\n",
    "from sklearn.metrics import mean_squared_error\n",
    "from category_encoders import TargetEncoder\n",
    "from catboost import CatBoostRegressor\n",
    "import lightgbm as lgb\n",
    "\n",
    "# Load training and test data\n",
    "train_data = pd.read_csv('/Users/vijeethvj8/Documents/Kaggle projects/playground-series-s4e9/train.csv')\n",
    "test_data = pd.read_csv('/Users/vijeethvj8/Documents/Kaggle projects/playground-series-s4e9/test.csv')\n",
    "\n",
    "# Check if the data loaded correctly\n",
    "print(\"Training Data:\")\n",
    "print(train_data.head())\n",
    "print(\"\\nTest Data:\")\n",
    "print(test_data.head())\n"
   ]
  },
  {
   "cell_type": "code",
   "execution_count": 7,
   "id": "eadcc778",
   "metadata": {},
   "outputs": [
    {
     "name": "stdout",
     "output_type": "stream",
     "text": [
      "\n",
      "Training Data Columns after horsepower extraction:\n",
      "Index(['id', 'brand', 'model', 'model_year', 'milage', 'fuel_type',\n",
      "       'transmission', 'ext_col', 'int_col', 'accident', 'clean_title',\n",
      "       'price', 'horsepower'],\n",
      "      dtype='object')\n",
      "\n",
      "Test Data Columns after horsepower extraction:\n",
      "Index(['id', 'brand', 'model', 'model_year', 'milage', 'fuel_type',\n",
      "       'transmission', 'ext_col', 'int_col', 'accident', 'clean_title',\n",
      "       'horsepower', 'price'],\n",
      "      dtype='object')\n"
     ]
    }
   ],
   "source": [
    "# Define a function to extract horsepower from the 'engine' column\n",
    "def extract_horsepower(engine_str):\n",
    "    match = re.search(r\"(\\d+\\.\\d+|\\d+)HP\", engine_str)\n",
    "    return float(match.group(1)) if match else np.nan\n",
    "\n",
    "# Apply horsepower extraction to both train and test data\n",
    "train_data['horsepower'] = train_data['engine'].apply(lambda x: extract_horsepower(x) if pd.notnull(x) else np.nan)\n",
    "test_data['horsepower'] = test_data['engine'].apply(lambda x: extract_horsepower(x) if pd.notnull(x) else np.nan)\n",
    "\n",
    "# Drop the original 'engine' column as we now have horsepower\n",
    "train_data = train_data.drop('engine', axis=1)\n",
    "test_data = test_data.drop('engine', axis=1)\n",
    "\n",
    "# Add a placeholder 'price' column to the test data to match the train data structure\n",
    "test_data['price'] = 0  # Placeholder value for consistency with the training set\n",
    "\n",
    "print(\"\\nTraining Data Columns after horsepower extraction:\")\n",
    "print(train_data.columns)\n",
    "\n",
    "print(\"\\nTest Data Columns after horsepower extraction:\")\n",
    "print(test_data.columns)\n"
   ]
  },
  {
   "cell_type": "code",
   "execution_count": 8,
   "id": "0e168f92",
   "metadata": {},
   "outputs": [
    {
     "name": "stdout",
     "output_type": "stream",
     "text": [
      "\n",
      "Training Data Columns after encoding:\n",
      "Index(['id', 'brand', 'model', 'model_year', 'milage', 'fuel_type',\n",
      "       'transmission', 'ext_col', 'int_col', 'accident', 'clean_title',\n",
      "       'price', 'horsepower'],\n",
      "      dtype='object')\n",
      "\n",
      "Test Data Columns after encoding:\n",
      "Index(['id', 'brand', 'model', 'model_year', 'milage', 'fuel_type',\n",
      "       'transmission', 'ext_col', 'int_col', 'accident', 'clean_title',\n",
      "       'horsepower'],\n",
      "      dtype='object')\n"
     ]
    }
   ],
   "source": [
    "# Encode categorical variables with TargetEncoder\n",
    "encoder = TargetEncoder(cols=['brand', 'model', 'fuel_type', 'transmission', 'ext_col', 'int_col', 'accident', 'clean_title'])\n",
    "\n",
    "# Fit the encoder on the training data and transform both training and test data\n",
    "train_data_encoded = encoder.fit_transform(train_data, train_data['price'])\n",
    "test_data_encoded = encoder.transform(test_data)\n",
    "\n",
    "# Drop the placeholder 'price' column from the test set\n",
    "test_data_encoded = test_data_encoded.drop(columns=['price'])\n",
    "\n",
    "print(\"\\nTraining Data Columns after encoding:\")\n",
    "print(train_data_encoded.columns)\n",
    "\n",
    "print(\"\\nTest Data Columns after encoding:\")\n",
    "print(test_data_encoded.columns)\n"
   ]
  },
  {
   "cell_type": "code",
   "execution_count": 9,
   "id": "30e8daba",
   "metadata": {},
   "outputs": [
    {
     "name": "stdout",
     "output_type": "stream",
     "text": [
      "Shapes of X_train and X_val:\n",
      "(150826, 12) (37707, 12)\n"
     ]
    }
   ],
   "source": [
    "# Prepare features and target variable\n",
    "X = train_data_encoded.drop(columns=['price'])\n",
    "y = train_data_encoded['price']\n",
    "\n",
    "# Split the data into training and validation sets\n",
    "X_train, X_val, y_train, y_val = train_test_split(X, y, test_size=0.2, random_state=42)\n",
    "\n",
    "# Confirm that the split was successful\n",
    "print(\"Shapes of X_train and X_val:\")\n",
    "print(X_train.shape, X_val.shape)\n"
   ]
  },
  {
   "cell_type": "code",
   "execution_count": 10,
   "id": "7eb0d180",
   "metadata": {},
   "outputs": [
    {
     "name": "stdout",
     "output_type": "stream",
     "text": [
      "Learning rate set to 0.111922\n",
      "0:\tlearn: 78727.8439478\ttest: 73437.2812691\tbest: 73437.2812691 (0)\ttotal: 65.8ms\tremaining: 1m 5s\n",
      "100:\tlearn: 70923.2382318\ttest: 67882.8564584\tbest: 67838.6431071 (63)\ttotal: 582ms\tremaining: 5.18s\n",
      "Stopped by overfitting detector  (100 iterations wait)\n",
      "\n",
      "bestTest = 67838.64311\n",
      "bestIteration = 63\n",
      "\n",
      "Shrink model to first 64 iterations.\n",
      "CatBoost Validation RMSE: 67838.64310712501\n"
     ]
    }
   ],
   "source": [
    "# Train CatBoost Model\n",
    "catboost_model = CatBoostRegressor(verbose=100, random_seed=42)\n",
    "\n",
    "# Train CatBoost model on training data\n",
    "catboost_model.fit(X_train, y_train, eval_set=(X_val, y_val), early_stopping_rounds=100)\n",
    "\n",
    "# Evaluate CatBoost Model\n",
    "catboost_predictions = catboost_model.predict(X_val)\n",
    "catboost_rmse = np.sqrt(mean_squared_error(y_val, catboost_predictions))\n",
    "print(f\"CatBoost Validation RMSE: {catboost_rmse}\")\n"
   ]
  },
  {
   "cell_type": "code",
   "execution_count": 11,
   "id": "7159cfa1",
   "metadata": {},
   "outputs": [
    {
     "name": "stdout",
     "output_type": "stream",
     "text": [
      "[LightGBM] [Info] Auto-choosing row-wise multi-threading, the overhead of testing was 0.003130 seconds.\n",
      "You can set `force_row_wise=true` to remove the overhead.\n",
      "And if memory is not enough, you can set `force_col_wise=true`.\n",
      "[LightGBM] [Info] Total Bins 1480\n",
      "[LightGBM] [Info] Number of data points in the train set: 150826, number of used features: 12\n",
      "[LightGBM] [Info] Start training from score 43890.785316\n",
      "Training until validation scores don't improve for 100 rounds\n",
      "[100]\tvalid_0's rmse: 67563.6\n",
      "Early stopping, best iteration is:\n",
      "[88]\tvalid_0's rmse: 67549.4\n",
      "LightGBM Validation RMSE: 67549.40574413467\n"
     ]
    }
   ],
   "source": [
    "# Train LightGBM Model\n",
    "lgb_train_data = lgb.Dataset(X_train, label=y_train)\n",
    "lgb_eval_data = lgb.Dataset(X_val, label=y_val, reference=lgb_train_data)\n",
    "\n",
    "params = {\n",
    "    'objective': 'regression',\n",
    "    'metric': 'rmse',\n",
    "    'boosting_type': 'gbdt',\n",
    "    'learning_rate': 0.05,\n",
    "    'num_leaves': 31,\n",
    "    'feature_fraction': 0.9\n",
    "}\n",
    "\n",
    "# Train LightGBM model\n",
    "lightgbm_model = lgb.train(params,\n",
    "                           lgb_train_data,\n",
    "                           num_boost_round=1000,\n",
    "                           valid_sets=[lgb_eval_data],\n",
    "                           callbacks=[\n",
    "                               lgb.early_stopping(stopping_rounds=100),\n",
    "                               lgb.log_evaluation(period=100)\n",
    "                           ])\n",
    "\n",
    "# Evaluate LightGBM Model\n",
    "lightgbm_predictions = lightgbm_model.predict(X_val, num_iteration=lightgbm_model.best_iteration)\n",
    "lightgbm_rmse = np.sqrt(mean_squared_error(y_val, lightgbm_predictions))\n",
    "print(f\"LightGBM Validation RMSE: {lightgbm_rmse}\")\n"
   ]
  },
  {
   "cell_type": "code",
   "execution_count": 15,
   "id": "7938f7f5",
   "metadata": {},
   "outputs": [
    {
     "name": "stdout",
     "output_type": "stream",
     "text": [
      "Predictions saved to 'test_predictions.csv'\n"
     ]
    }
   ],
   "source": [
    "# Check if the 'price' column exists in test_data_encoded, and add it if necessary\n",
    "if 'price' not in test_data_encoded.columns:\n",
    "    test_data_encoded['price'] = 0  # Add a placeholder column for consistency\n",
    "\n",
    "# Use the best model to predict on the test set\n",
    "try:\n",
    "    test_features = test_data_encoded.drop(columns=['price'])\n",
    "except KeyError:\n",
    "    # The 'price' column might not exist, continue without dropping\n",
    "    test_features = test_data_encoded\n",
    "\n",
    "# Generate predictions\n",
    "test_predictions = best_model.predict(test_features)\n",
    "\n",
    "# Step 11: Save predictions to a CSV file\n",
    "test_data_encoded['price'] = test_predictions\n",
    "test_data_encoded[['id', 'price']].to_csv('test_predictions.csv', index=False)\n",
    "\n",
    "print(\"Predictions saved to 'test_predictions.csv'\")\n"
   ]
  },
  {
   "cell_type": "code",
   "execution_count": null,
   "id": "d2daa734",
   "metadata": {},
   "outputs": [],
   "source": []
  }
 ],
 "metadata": {
  "kernelspec": {
   "display_name": "Python 3 (ipykernel)",
   "language": "python",
   "name": "python3"
  },
  "language_info": {
   "codemirror_mode": {
    "name": "ipython",
    "version": 3
   },
   "file_extension": ".py",
   "mimetype": "text/x-python",
   "name": "python",
   "nbconvert_exporter": "python",
   "pygments_lexer": "ipython3",
   "version": "3.11.4"
  }
 },
 "nbformat": 4,
 "nbformat_minor": 5
}
